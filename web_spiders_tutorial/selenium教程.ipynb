{
 "cells": [
  {
   "cell_type": "markdown",
   "metadata": {},
   "source": [
    "# selenium教程"
   ]
  },
  {
   "cell_type": "code",
   "execution_count": 1,
   "metadata": {},
   "outputs": [],
   "source": [
    "from selenium import webdriver\n",
    "\n",
    "driver = webdriver.Chrome()"
   ]
  },
  {
   "cell_type": "markdown",
   "metadata": {
    "heading_collapsed": true
   },
   "source": [
    "## 定位元素"
   ]
  },
  {
   "cell_type": "markdown",
   "metadata": {
    "hidden": true
   },
   "source": [
    "定位一个元素:  \n",
    "* name\t\t\t      →\t\tfind_element_by_name()\n",
    "* tag_name            →    find_element_by_tag_name()\n",
    "* class_name\t\t  →\t\tfind_element_by_class_name()\n",
    "* link_text\t\t\t  →\t\tfind_element_by_link_text()\n",
    "* partial_link_text   →    find_element_by_partial_link_text()\n",
    "* xpath\t\t\t\t  →\t    find_element_by_xpath()\n",
    "* css_selector        →\t\tfind_element_by_css_selector()\n",
    "\n",
    "定位一组元素:  \n",
    "* find_elements_by_id()  \n",
    "* find_elements_by_name()  \n",
    "* find_elements_by_class_name()  \n",
    "* find_elements_by_tag_name()  \n",
    "* find_elements_by_link_text()  \n",
    "* find_elements_by_partial_link_text()  \n",
    "* find_elements_by_xpath()  \n",
    "* find_elements_by_css_selector()  \n",
    "\n",
    "可以用for xxx in xxx 来遍历"
   ]
  },
  {
   "cell_type": "code",
   "execution_count": null,
   "metadata": {
    "hidden": true
   },
   "outputs": [],
   "source": [
    "# id 定位\n",
    "driver.find_element_by_id(\"kw\")\n",
    "driver.find_element_by_id(\"su\")\n",
    "\n",
    "# name 定位\n",
    "driver.find_element_by_name(\"wd\")\n",
    "\n",
    "# class 定位\n",
    "driver.find_element_by_class_name(\"s_ipt\")\n",
    "\n",
    "# tag定位\n",
    "driver.find_element_by_tag_name(\"input\")\n",
    "\n",
    "# link text定位\n",
    "driver.find_element_by_link_text(\"新闻\")\n",
    "driver.find_element_by_link_text(\"hao123\")\n",
    "driver.find_element_by_link_text(\"地图\")\n",
    "driver.find_element_by_link_text(\"视频\")\n",
    "driver.find_element_by_link_text(\"贴吧\")\n",
    "\n",
    "# partial link定位\n",
    "driver.find_element_by_partial_link_text(\"一个很长的\")\n",
    "driver.find_element_by_partial_link_text(\"文本链接\")\n",
    "\n",
    "# XPath 定位\n",
    "# 1、绝对路径定位\n",
    "driver.find_element_by_xpath(\"/html/body/div/div[2]/div/div/div/from/span/input\")\n",
    "driver.find_element_by_xpath(\"/html/body/div/div[2]/div/div/div/from/span[2]/input\")\n",
    "\n",
    "# 2、利用元素属性定位\n",
    "driver.find_element_by_xpath(\"//input[@id='kw']\")\n",
    "driver.find_element_by_xpath(\"//input[@id='su']\")\n",
    "driver.find_element_by_xpath(\"//*[@name='wd']\")\n",
    "driver.find_element_by_xpath(\"//*[@class='s_ipt']\")\n",
    "driver.find_element_by_xpath(\"//input[@maxlength='100']\")\n",
    "driver.find_element_by_xpath(\"//input[@autocomplete='off']\")\n",
    "driver.find_element_by_xpath(\"//input[@type='submit']\")\n",
    "\n",
    "# 3、层级与属性结合\n",
    "driver.find_element_by_xpath(\"//span[@class='bg s_ipt_wr']/input\")\n",
    "driver.find_element_by_xpath(\"//form[@id='form']/span/input\")\n",
    "driver.find_element_by_xpath(\"//form[@id='form']/span[2]/input\")\n",
    "\n",
    "# 4、使用逻辑运算符\n",
    "driver.find_element_by_xpath(\"//input[@id='kw' and @class='s_ipt']\")\n",
    "\n",
    "# 5、使用contains方法\n",
    "driver.find_element_by_xpath(\"//span[contains(@calss,'s_ipt_wr')]/input\")\n",
    "\n",
    "# 6、使用text()方法\n",
    "driver.find_element_by_xpath(\"//a[text(),'新闻')]\")\n",
    "driver.find_element_by_xpath(\"//a[contains(text(),'一个很长的')]\")\n",
    "\n",
    "\n",
    "# CSS 定位\n",
    "# 1.通过class属性定位\n",
    "driver.find_element_by_css_selector(\".s_ipt\")\n",
    "driver.find_element_by_css_selector(\".s_btn\")\n",
    "\n",
    "# 2、通过id属性定位\n",
    "driver.find_element_by_css_selector(\"#kw\")\n",
    "driver.find_element_by_css_selector(\"#su\")\n",
    "\n",
    "# 3、通过标签名定位\n",
    "driver.find_element_by_css_selector(\"input\")\n",
    "\n",
    "# 4、通过标签层级关系定位\n",
    "driver.find_element_by_css_selector(\"span > input\")\n",
    "\n",
    "# 5、通过属性定位\n",
    "driver.find_element_by_css_selector(\"[autocomplete=off]\")\n",
    "driver.find_element_by_css_selector(\"[name='kw']\")\n",
    "driver.find_element_by_css_selector('[type=\"submit\"]')\n",
    "\n",
    "# 6、组合定位\n",
    "driver.find_element_by_css_selector(\"form.fm > span > input.s_ipt\")\n",
    "driver.find_element_by_css_selector(\"form#form > span > input#kw\")\n",
    "\n",
    "# 7、更多定位用法\n",
    "driver.find_element_by_css_selector(\"[class*=s_ipt_wr]\")\n",
    "driver.find_element_by_css_selector(\"[class^=bg]\")\n",
    "driver.find_element_by_css_selector(\"[class$=wrap]\")\n",
    "driver.find_element_by_css_selector(\"form > input:nth-child(2)\")"
   ]
  },
  {
   "cell_type": "code",
   "execution_count": null,
   "metadata": {
    "hidden": true
   },
   "outputs": [],
   "source": [
    "from time import sleep\n",
    "\n",
    "driver = webdriver.Chrome()\n",
    "driver.get(\"https://www.baidu.cn\")\n",
    "\n",
    "driver.find_element_by_id(\"kw\").send_keys(\"selenium\")\n",
    "driver.find_element_by_id(\"su\").click()\n",
    "sleep(2)\n",
    "\n",
    "# 定位一组元素\n",
    "texts = driver.find_elements_by_xpath(\"//div[@tpl='se_com_default']/h3/a\")\n",
    "\n",
    "# 计算匹配结果个数\n",
    "print(len(texts))\n",
    "\n",
    "# 循环遍历出每一条搜索结果的标题\n",
    "for t in texts:\n",
    "    print(t.text)\n",
    "\n",
    "driver.quit()"
   ]
  },
  {
   "cell_type": "code",
   "execution_count": null,
   "metadata": {
    "hidden": true
   },
   "outputs": [],
   "source": [
    "# 获得输入框的尺寸\n",
    "size = driver.find_element_by_id('kw').size\n",
    "print(size)\n",
    "\n",
    "# 返回元素的属性值，可以是 id、 name、 type 或其他任意属性\n",
    "attribute = driver.find_element_by_id(\"kw\").get_attribute('type')\n",
    "print(attribute)\n",
    "\n",
    "# 返回元素的结果是否可见，返回结果为 True 或 False\n",
    "result = driver.find_element_by_id(\"kw\").is_displayed()\n",
    "print(result)"
   ]
  },
  {
   "cell_type": "markdown",
   "metadata": {
    "heading_collapsed": true
   },
   "source": [
    "## 控制浏览器窗口"
   ]
  },
  {
   "cell_type": "markdown",
   "metadata": {
    "hidden": true
   },
   "source": [
    "### 控制窗口大小"
   ]
  },
  {
   "cell_type": "code",
   "execution_count": 4,
   "metadata": {
    "hidden": true
   },
   "outputs": [
    {
     "name": "stdout",
     "output_type": "stream",
     "text": [
      "设置浏览器宽480、高400显示\n"
     ]
    }
   ],
   "source": [
    "driver = webdriver.Chrome()\n",
    "driver.get(\"http://www.baidu.com\")\n",
    "\n",
    "# 参数数字为像素点\n",
    "driver.set_window_size(480, 4000)\n",
    "\n",
    "# 设置浏览器全屏\n",
    "driver.maximize_window()\n",
    "\n",
    "#driver.quit()"
   ]
  },
  {
   "cell_type": "markdown",
   "metadata": {
    "heading_collapsed": true
   },
   "source": [
    "## 交互操作"
   ]
  },
  {
   "cell_type": "markdown",
   "metadata": {
    "hidden": true
   },
   "source": [
    "### 前进,后退,刷新,清除文本,模拟按键,点击,提交表单"
   ]
  },
  {
   "cell_type": "code",
   "execution_count": 10,
   "metadata": {
    "hidden": true
   },
   "outputs": [],
   "source": [
    "driver = webdriver.Chrome()\n",
    "\n",
    "# 访问百度首页\n",
    "first_url = 'http://www.baidu.com'\n",
    "driver.get(first_url)\n",
    "\n",
    "# 访问新闻页面\n",
    "second_url = 'http://news.baidu.com'\n",
    "driver.get(second_url)\n",
    "\n",
    "# 返回（后退）到百度首页\n",
    "driver.back()\n",
    "\n",
    "# 前进到新闻页\n",
    "driver.forward()\n",
    "\n",
    "# 刷新当前页面\n",
    "driver.refresh()"
   ]
  },
  {
   "cell_type": "code",
   "execution_count": null,
   "metadata": {
    "hidden": true
   },
   "outputs": [],
   "source": [
    "driver = webdriver.Chrome()\n",
    "driver.get(\"https://www.baidu.com\")\n",
    "\n",
    "#清除\n",
    "driver.find_element_by_id(\"kw\").clear()\n",
    "\n",
    "#按键\n",
    "driver.find_element_by_id(\"kw\").send_keys(\"selenium\")\n",
    "\n",
    "#点击\n",
    "driver.find_element_by_id(\"su\").click()\n",
    "\n",
    "#提交表单\n",
    "search_text = driver.find_element_by_id('kw')\n",
    "search_text.send_keys('selenium')\n",
    "search_text.submit()"
   ]
  },
  {
   "cell_type": "markdown",
   "metadata": {
    "hidden": true
   },
   "source": [
    "### 鼠标操作"
   ]
  },
  {
   "cell_type": "markdown",
   "metadata": {
    "hidden": true
   },
   "source": [
    " perform():执行ActionChains类中存储的所有行为。  context_click():右击。  \n",
    " double_click():双击。  \n",
    " drag_and_drop():拖动。  \n",
    " move_to_element():鼠标悬停。  "
   ]
  },
  {
   "cell_type": "code",
   "execution_count": 9,
   "metadata": {
    "hidden": true
   },
   "outputs": [],
   "source": [
    "from selenium import webdriver\n",
    "from selenium.webdriver.common.action_chains import ActionChains\n",
    "\n",
    "driver = webdriver.Chrome()\n",
    "driver.get(\"https://www.baidu.com\")\n",
    "\n",
    "# 定位到要鼠标悬停的元素\n",
    "above = driver.find_element_by_xpath(\"//*[@id=\\\"s-top-left\\\"]/div/a\")\n",
    "# 对定位到的元素执行鼠标悬停操作\n",
    "ActionChains(driver).move_to_element(above).perform()"
   ]
  },
  {
   "cell_type": "markdown",
   "metadata": {
    "hidden": true
   },
   "source": [
    "### 键盘操作"
   ]
  },
  {
   "cell_type": "code",
   "execution_count": 11,
   "metadata": {
    "hidden": true
   },
   "outputs": [],
   "source": [
    "from selenium import webdriver\n",
    "# 引入Keys模块\n",
    "from selenium.webdriver.common.keys import Keys\n",
    "\n",
    "driver = webdriver.Chrome()\n",
    "driver.get(\"http://www.baidu.com\")\n",
    "\n",
    "# 输入框输入内容\n",
    "driver.find_element_by_id(\"kw\").send_keys(\"seleniumm\")\n",
    "\n",
    "# 删除多输入的一个m\n",
    "driver.find_element_by_id(\"kw\").send_keys(Keys.BACK_SPACE)\n",
    "\n",
    "# 输入空格键+“教程”\n",
    "driver.find_element_by_id(\"kw\").send_keys(Keys.SPACE)\n",
    "driver.find_element_by_id(\"kw\").send_keys(\"教程\")\n",
    "\n",
    "# ctrl+a 全选输入框内容\n",
    "driver.find_element_by_id(\"kw\").send_keys(Keys.CONTROL, 'a')\n",
    "\n",
    "# ctrl+x 剪切输入框内容\n",
    "driver.find_element_by_id(\"kw\").send_keys(Keys.CONTROL, 'x')\n",
    "\n",
    "# ctrl+v 粘贴内容到输入框\n",
    "driver.find_element_by_id(\"kw\").send_keys(Keys.CONTROL, 'v')\n",
    "\n",
    "# 通过回车键来代替单击操作\n",
    "driver.find_element_by_id(\"su\").send_keys(Keys.ENTER)\n",
    "\n",
    "driver.quit()"
   ]
  },
  {
   "cell_type": "markdown",
   "metadata": {
    "heading_collapsed": true
   },
   "source": [
    "## 获得验证信息"
   ]
  },
  {
   "cell_type": "code",
   "execution_count": 17,
   "metadata": {
    "hidden": true
   },
   "outputs": [
    {
     "name": "stdout",
     "output_type": "stream",
     "text": [
      "Before search================\n",
      "title:百度一下，你就知道\n",
      "URL:https://www.baidu.com/\n",
      "After search================\n",
      "title:selenium_百度搜索\n",
      "URL:https://www.baidu.com/s?ie=utf-8&f=8&rsv_bp=1&rsv_idx=1&tn=baidu&wd=selenium&fenlei=256&rsv_pq=a090cea20015238f&rsv_t=fd00xOK0r3kgOB3VfIO7xL1p32KE%2FdPDCeX%2BfVbDOSB%2B%2Fo7Us4ufSTNfa2k&rqlang=cn&rsv_enter=0&rsv_dl=tb&rsv_sug3=8&rsv_sug1=1&rsv_sug7=100&rsv_btype=i&inputT=256&rsv_sug4=256\n",
      "result:百度为您找到相关结果约85,100,000个\n"
     ]
    }
   ],
   "source": [
    "\"\"\"\n",
    "*  title         获取当前页面title\n",
    "*  current_url   获取当前页面URL\n",
    "*  text          获得文本信息\n",
    "\"\"\"\n",
    "from selenium import webdriver\n",
    "from time import sleep\n",
    "\n",
    "driver = webdriver.Chrome()\n",
    "driver.get(\"https://www.baidu.com\")\n",
    "print('Before search================')\n",
    "\n",
    "# 打印当前页面title\n",
    "title = driver.title\n",
    "print(\"title:\"+ title)\n",
    "\n",
    "# 打印当前页面URL\n",
    "now_url = driver.current_url\n",
    "print(\"URL:\"+now_url)\n",
    "\n",
    "driver.find_element_by_id(\"kw\").send_keys(\"selenium\")\n",
    "driver.find_element_by_id(\"su\").click()\n",
    "sleep(2)\n",
    "\n",
    "print('After search================')\n",
    "\n",
    "# 再次打印当前页面title\n",
    "title = driver.title\n",
    "print(\"title:\"+title)\n",
    "\n",
    "# 打印当前页面URL\n",
    "now_url = driver.current_url\n",
    "print(\"URL:\"+now_url)\n",
    "\n",
    "# 获取搜索结果条数\n",
    "num = driver.find_element_by_class_name('nums_text').text\n",
    "print(\"result:\"+ num)\n",
    "\n",
    "driver.quit()"
   ]
  },
  {
   "cell_type": "markdown",
   "metadata": {},
   "source": [
    "## 等待时间"
   ]
  },
  {
   "cell_type": "markdown",
   "metadata": {},
   "source": [
    "显式等待是 WebDriver 等待某个条件成立则继续执行，否则在达到最大时长时抛出超 时异常(TimeoutException)  \n",
    "隐式等待,当脚本执行到某个元素定位时，如果元素存在，则继续执行;如果定位不到元素， 则它将以轮询的方式不断地判断元素是否存在。假设在第 6s 定位到了元素，则继续执行， 若直到超出设置时间(10s)还没有定位到元素，则抛出异常。"
   ]
  },
  {
   "cell_type": "code",
   "execution_count": 21,
   "metadata": {},
   "outputs": [],
   "source": [
    "\"\"\"\n",
    "*  presence_of_element_located()  方法判断元素是否存在\n",
    "\"\"\"\n",
    "from selenium import webdriver\n",
    "from selenium.webdriver.common.by import By\n",
    "from selenium.webdriver.support.ui import WebDriverWait\n",
    "from selenium.webdriver.support import expected_conditions as EC\n",
    "\n",
    "driver = webdriver.Chrome()\n",
    "driver.get(\"http://www.baidu.com\")\n",
    "\n",
    "element = WebDriverWait(driver, 5, 0.5).until(\n",
    "    EC.visibility_of_element_located((By.ID, \"kw\"))\n",
    "    )\n",
    "element.send_keys('selenium')\n",
    "driver.quit()"
   ]
  },
  {
   "cell_type": "code",
   "execution_count": 28,
   "metadata": {},
   "outputs": [
    {
     "name": "stdout",
     "output_type": "stream",
     "text": [
      "Tue May 18 19:35:59 2021\n",
      "time out\n",
      "Tue May 18 19:36:09 2021\n"
     ]
    }
   ],
   "source": [
    "\"\"\"\n",
    "自定义元素等待\n",
    "\"\"\"\n",
    "from selenium import webdriver\n",
    "from time import sleep, ctime\n",
    "\n",
    "driver = webdriver.Chrome()\n",
    "driver.get(\"http://www.baidu.com\")\n",
    "\n",
    "print(ctime())\n",
    "for i in range(10):\n",
    "    try:\n",
    "        el = driver.find_element_by_id(\"kw22\")\n",
    "        if el.is_displayed():\n",
    "            break\n",
    "    except:\n",
    "        # catch error\n",
    "        sleep(1)\n",
    "else:\n",
    "    print(\"time out\")\n",
    "print(ctime())\n",
    "\n",
    "driver.quit()"
   ]
  },
  {
   "cell_type": "code",
   "execution_count": 30,
   "metadata": {},
   "outputs": [
    {
     "name": "stdout",
     "output_type": "stream",
     "text": [
      "Tue May 18 19:37:05 2021\n",
      "Message: no such element: Unable to locate element: {\"method\":\"css selector\",\"selector\":\"[id=\"kw22\"]\"}\n",
      "  (Session info: chrome=90.0.4430.212)\n",
      "\n",
      "Tue May 18 19:37:15 2021\n"
     ]
    }
   ],
   "source": [
    "\"\"\"\n",
    "*  implicitly_wait() 隐式等待\n",
    "\"\"\"\n",
    "from selenium import webdriver\n",
    "from selenium.common.exceptions import NoSuchElementException\n",
    "from time import ctime\n",
    "\n",
    "driver = webdriver.Chrome()\n",
    "\n",
    "# 设置隐式等待为10秒\n",
    "driver.implicitly_wait(10)\n",
    "driver.get(\"http://www.baidu.com\")\n",
    "\n",
    "try:\n",
    "    print(ctime())\n",
    "    driver.find_element_by_id(\"kw22\").send_keys('selenium')\n",
    "except NoSuchElementException as e:\n",
    "    print(e)\n",
    "finally:\n",
    "    print(ctime())\n",
    "    driver.quit()"
   ]
  },
  {
   "cell_type": "markdown",
   "metadata": {},
   "source": [
    "## 多表单切换"
   ]
  },
  {
   "cell_type": "markdown",
   "metadata": {},
   "source": [
    "在 Web 应用中经常会遇到 frame/iframe 表单嵌套页面的应用，WebDriver 只能在一个 页面上对元素进行识别和定位，无法直接定位 frame/iframe 表单内嵌页面上的元素，这时 就需要通过 switch_to.frame()方法将当前定位的主体切换为 frame/iframe 表单的内嵌页面。"
   ]
  },
  {
   "cell_type": "code",
   "execution_count": 31,
   "metadata": {},
   "outputs": [],
   "source": [
    "\"\"\"\n",
    "*  switch_to.frame()  进入表单\n",
    "*  switch_to.default_content()  退出表单至根页面\n",
    "\"\"\"\n",
    "from selenium import webdriver\n",
    "from time import sleep\n",
    "\n",
    "driver = webdriver.Chrome()\n",
    "driver.get(\"http://www.126.com\")\n",
    "sleep(2)\n",
    "\n",
    "login_frame = driver.find_element_by_css_selector('iframe[id^=\"x-URS-iframe\"]')\n",
    "driver.switch_to.frame(login_frame)\n",
    "driver.find_element_by_name(\"email\").send_keys(\"username\")\n",
    "driver.find_element_by_name(\"password\").send_keys(\"password\")\n",
    "driver.find_element_by_id(\"dologin\").click()\n",
    "driver.switch_to.default_content()\n",
    "\n",
    "driver.quit()"
   ]
  },
  {
   "cell_type": "markdown",
   "metadata": {},
   "source": [
    "## 多窗口切换"
   ]
  },
  {
   "cell_type": "markdown",
   "metadata": {},
   "source": [
    "在页面操作过程中，有时单击某个链接会弹出新的窗口，这时就需要切换到新打开的 窗口中进行操作。WebDriver提供的switch_to.window()方法可以实现在不同的窗口间切换。  \n",
    " current_window_handle:获得当前窗口句柄。  \n",
    " window_handles:返回所有窗口的句柄到当前会话。  \n",
    " switch_to.window():切换到相应的窗口。  "
   ]
  },
  {
   "cell_type": "code",
   "execution_count": 37,
   "metadata": {},
   "outputs": [
    {
     "name": "stdout",
     "output_type": "stream",
     "text": [
      "最开始的handle地址:CDwindow-7C40084296DD70D0FF16BB09200F9466\n",
      "遍历时的handle地址:CDwindow-7C40084296DD70D0FF16BB09200F9466\n",
      "遍历时的handle地址:CDwindow-9A497AC70082545EEA872A7BF4C6187E\n",
      "注册百度帐号\n",
      "百度一下，你就知道\n"
     ]
    }
   ],
   "source": [
    "\"\"\"\n",
    "*  switch_to.window()  切换窗口\n",
    "*  current_window_handle 获得当前窗口的句柄\n",
    "*  window_handles：返回所有窗口的句柄到当前会话\n",
    "\"\"\"\n",
    "from selenium import webdriver\n",
    "import time\n",
    "\n",
    "driver = webdriver.Chrome()\n",
    "driver.implicitly_wait(10)\n",
    "driver.get(\"http://www.baidu.com\")\n",
    "\n",
    "# 获得百度搜索窗口句柄\n",
    "search_windows = driver.current_window_handle\n",
    "print(\"最开始的handle地址:\" + search_windows)\n",
    "driver.find_element_by_link_text('登录').click()\n",
    "driver.find_element_by_link_text(\"立即注册\").click()\n",
    "\n",
    "# 获得当前所有打开的窗口的句柄\n",
    "all_handles = driver.window_handles\n",
    "\n",
    "# 进入注册窗口\n",
    "for handle in all_handles:\n",
    "    print(\"遍历时的handle地址:\" + handle)\n",
    "    if handle != search_windows:\n",
    "        driver.switch_to.window(handle)\n",
    "        print(driver.title)\n",
    "        driver.find_element_by_name(\"userName\").send_keys('username')\n",
    "        driver.find_element_by_name('phone').send_keys('138xxxxxxx')\n",
    "        time.sleep(2)\n",
    "        # ……\n",
    "        # 关闭当前窗口\n",
    "        driver.close()\n",
    "\n",
    "\n",
    "# 回到搜索窗口\n",
    "driver.switch_to.window(search_windows)\n",
    "print(driver.title)\n",
    "\n",
    "driver.quit()"
   ]
  },
  {
   "cell_type": "markdown",
   "metadata": {},
   "source": [
    "## 警告框处理"
   ]
  },
  {
   "cell_type": "markdown",
   "metadata": {},
   "source": [
    "在WebDriver中处理JavaScript生成的alert、confirm和prompt十分简单，具体做法是， 首先使用 switch_to.alert()方法定位，然后使用 text、accept、dismiss、send_keys 等进行操作。  \n",
    " text:返回 alert、confirm、prompt 中的文字信息。  \n",
    " accept():接受现有警告框。  \n",
    " dismiss():解散现有警告框。  \n",
    " send_keys():在警告框中输入文本(如果可以输入的话)。  "
   ]
  },
  {
   "cell_type": "code",
   "execution_count": 42,
   "metadata": {},
   "outputs": [
    {
     "name": "stdout",
     "output_type": "stream",
     "text": [
      "已经记录下您的使用偏好\n"
     ]
    }
   ],
   "source": [
    "\"\"\"\n",
    "* text：返回 alert/confirm/prompt 中的文字信息。\n",
    "* accept()：接受现有警告框。\n",
    "* dismiss()：解散现有警告框。\n",
    "* send_keys(keysToSend)： 发送文本至警告框。\n",
    "\"\"\"\n",
    "from selenium import webdriver\n",
    "from time import sleep\n",
    "\n",
    "driver = webdriver.Chrome()\n",
    "driver.get('https://www.baidu.com')\n",
    "\n",
    "# 打开搜索设置\n",
    "link = driver.find_element_by_xpath(\"//*[@id=\\\"s-usersetting-top\\\"]\").click()\n",
    "driver.find_element_by_link_text(\"搜索设置\").click()\n",
    "sleep(2)\n",
    "\n",
    "# 保存设置\n",
    "driver.find_element_by_class_name(\"prefpanelgo\").click()\n",
    "\n",
    "# 获得警告框\n",
    "alert = driver.switch_to.alert\n",
    "\n",
    "# 获得警告框提示信息\n",
    "alert_text = alert.text\n",
    "print(alert_text)\n",
    "\n",
    "# 接受警告框\n",
    "alert.accept()\n",
    "\n",
    "driver.quit()"
   ]
  },
  {
   "cell_type": "markdown",
   "metadata": {},
   "source": [
    "## 下拉框处理"
   ]
  },
  {
   "cell_type": "code",
   "execution_count": null,
   "metadata": {},
   "outputs": [],
   "source": [
    "\"\"\"\n",
    "* Select  操作select标签的下拉框。\n",
    "* select_by_value()  选择value属性选择。\n",
    "* select_by_visible_text() 通过选项名称选择。\n",
    "* select_by_index() 通过索引选择\n",
    "\"\"\"\n",
    "from selenium import webdriver\n",
    "from selenium.webdriver.support.select import Select\n",
    "from time import sleep\n",
    "\n",
    "driver = webdriver.Chrome()\n",
    "driver.get('https://www.baidu.com')\n",
    "\n",
    "# 打开搜索设置\n",
    "link = driver.find_element_by_xpath(\"//*[@id=\\\"s-usersetting-top\\\"]\").click()\n",
    "driver.find_element_by_link_text(\"搜索设置\").click()\n",
    "sleep(2)\n",
    "\n",
    "# 搜索结果显示条数\n",
    "sel = driver.find_element_by_xpath(\"//select[@id='nr']\")\n",
    "\n",
    "# value=\"20\"\n",
    "Select(sel).select_by_value('20')\n",
    "sleep(2)\n",
    "\n",
    "# <option>每页显示50条</option>\n",
    "Select(sel).select_by_visible_text(\"每页显示50条\")\n",
    "sleep(2)\n",
    "\n",
    "# 根据选项的索引选择\n",
    "Select(sel).select_by_index(0)\n",
    "sleep(2)\n",
    "\n",
    "driver.quit()"
   ]
  },
  {
   "cell_type": "markdown",
   "metadata": {},
   "source": [
    "## 上传下载文件"
   ]
  },
  {
   "cell_type": "markdown",
   "metadata": {},
   "source": [
    "通过这种方式上传，就避免了操作 Windows 控件。如果能找到上传的 input 标签，那\n",
    "么基本可以通过 send_keys()方法输入一个本地文件路径实现上传。"
   ]
  },
  {
   "cell_type": "markdown",
   "metadata": {},
   "source": [
    "<html>\n",
    "<head>\n",
    "  <meta charset=\"utf-8\">\n",
    "  <title>上传表单</title>\n",
    "  <link href=\"https://cdn.bootcss.com/bootstrap/3.3.7/css/bootstrap.min.css\"\n",
    "  rel=\"stylesheet\" >\n",
    "  <script src=\"https://cdn.bootcss.com/bootstrap/3.3.7/js/bootstrap.min.js\">\n",
    "  </script>\n",
    "</head>\n",
    "\n",
    "<body>\n",
    "  <div class=\"jumbotron\">\n",
    "    <form class=\"form-inline\" role=\"form\">\n",
    "      <div class=\"form-group\">\n",
    "        <label class=\"sr-only\" for=\"name\">名称</label>\n",
    "        <input type=\"text\" class=\"form-control\" id=\"name\"\n",
    "             placeholder=\"请输入名称\">\n",
    "      </div>\n",
    "      <div class=\"form-group\">\n",
    "        <label class=\"sr-only\" for=\"inputfile\">文件输入</label>\n",
    "        <input type=\"file\" id=\"file\">\n",
    "      </div>\n",
    "      <button type=\"submit\" class=\"btn btn-default\">提交</button>\n",
    "    </form>\n",
    "  </div>\n",
    "</body>\n",
    "\n",
    "</html>"
   ]
  },
  {
   "cell_type": "code",
   "execution_count": 48,
   "metadata": {},
   "outputs": [
    {
     "name": "stdout",
     "output_type": "stream",
     "text": [
      "/Users/lin/Desktop/files\n"
     ]
    }
   ],
   "source": [
    "\"\"\"\n",
    "* send_keys() 指定文件上传路径。\n",
    "\"\"\"\n",
    "from selenium import webdriver\n",
    "import os\n",
    "\n",
    "file_path = os.path.abspath('./files/')\n",
    "print(file_path)\n",
    "driver = webdriver.Chrome()\n",
    "upload_page = 'file:///' + file_path + '/upfile.html'\n",
    "driver.get(upload_page)\n",
    "\n",
    "# 定位上传按钮，添加本地文件\n",
    "driver.find_element_by_id(\"file\").send_keys(file_path + '/test.txt')\n",
    "# ……"
   ]
  },
  {
   "cell_type": "code",
   "execution_count": 49,
   "metadata": {},
   "outputs": [
    {
     "data": {
      "text/plain": [
       "'/Users/lin/Desktop'"
      ]
     },
     "execution_count": 49,
     "metadata": {},
     "output_type": "execute_result"
    }
   ],
   "source": [
    "os.getcwd()"
   ]
  },
  {
   "cell_type": "code",
   "execution_count": 51,
   "metadata": {},
   "outputs": [],
   "source": [
    "\"\"\"\n",
    "chrome浏览器实现下载\n",
    "\"\"\"\n",
    "import os\n",
    "from selenium import webdriver\n",
    "\n",
    "options = webdriver.ChromeOptions() \n",
    "prefs = {'profile.default_content_settings.popups': 0,\n",
    "         'download.default_directory': os.getcwd()}\n",
    "options.add_experimental_option('prefs', prefs) \n",
    "\n",
    "driver = webdriver.Chrome(options=options) \n",
    "driver.get(\"https://pypi.org/project/selenium/#files\")\n",
    "driver.find_element_by_partial_link_text(\"selenium-3.141.0.tar.gz\").click()"
   ]
  },
  {
   "cell_type": "markdown",
   "metadata": {},
   "source": [
    "## 操作 Cookie"
   ]
  },
  {
   "cell_type": "code",
   "execution_count": 52,
   "metadata": {},
   "outputs": [
    {
     "name": "stdout",
     "output_type": "stream",
     "text": [
      "[{'domain': '.baidu.com', 'expiry': 1652876291, 'httpOnly': False, 'name': 'BAIDUID_BFESS', 'path': '/', 'sameSite': 'None', 'secure': True, 'value': 'ACB57A2A8BFDA08C19F3492DDC8B419B:FG=1'}, {'domain': '.baidu.com', 'expiry': 1621343891, 'httpOnly': False, 'name': 'BA_HECTOR', 'path': '/', 'secure': False, 'value': '8s2k0ga504a50540sq1ga7c430r'}, {'domain': '.baidu.com', 'httpOnly': False, 'name': 'H_PS_PSSID', 'path': '/', 'secure': False, 'value': '33797_33971_31254_34004_33675_33607_34023'}, {'domain': 'www.baidu.com', 'expiry': 1621340291, 'httpOnly': False, 'name': 'BD_LAST_QID', 'path': '/', 'secure': False, 'value': '13261273385434383819'}, {'domain': '.baidu.com', 'expiry': 1652876290, 'httpOnly': False, 'name': 'BAIDUID', 'path': '/', 'secure': False, 'value': 'ACB57A2A8BFDA08C19F3492DDC8B419B:FG=1'}, {'domain': '.baidu.com', 'expiry': 3768823937, 'httpOnly': False, 'name': 'BIDUPSID', 'path': '/', 'secure': False, 'value': 'ACB57A2A8BFDA08C8B584D42FD66D257'}, {'domain': '.baidu.com', 'expiry': 3768823937, 'httpOnly': False, 'name': 'PSTM', 'path': '/', 'secure': False, 'value': '1621340290'}, {'domain': 'www.baidu.com', 'expiry': 1622204291, 'httpOnly': False, 'name': 'BD_UPN', 'path': '/', 'secure': False, 'value': '123253'}, {'domain': 'www.baidu.com', 'httpOnly': False, 'name': 'BD_HOME', 'path': '/', 'secure': False, 'value': '1'}]\n",
      "key-aaaaaaa -> value-bbbbbb\n",
      "BAIDUID_BFESS -> ACB57A2A8BFDA08C19F3492DDC8B419B:FG=1\n",
      "BA_HECTOR -> 8s2k0ga504a50540sq1ga7c430r\n",
      "H_PS_PSSID -> 33797_33971_31254_34004_33675_33607_34023\n",
      "BD_LAST_QID -> 13261273385434383819\n",
      "BAIDUID -> ACB57A2A8BFDA08C19F3492DDC8B419B:FG=1\n",
      "BIDUPSID -> ACB57A2A8BFDA08C8B584D42FD66D257\n",
      "PSTM -> 1621340290\n",
      "BD_UPN -> 123253\n",
      "BD_HOME -> 1\n"
     ]
    }
   ],
   "source": [
    "\"\"\"\n",
    "* get_cookies() 获得所有 cookie 信息。\n",
    "* get_cookie(name) 返回字典的 key 为“ name”的 cookie 信息。\n",
    "* add_cookie(cookie_dict) 添加 cookie。“ cookie_dict”指字典对象，必须有name和value 值。\n",
    "* delete_cookie(name,optionsString)  删除 cookie 信息。“name”是要删除的 cookie 的名称，\n",
    "                                   “optionsString”是该 cookie 的选项，目前支持的选项包括“路径”，“域”。\n",
    "* delete_all_cookies() 删除所有 cookie 信息。\n",
    "\"\"\"\n",
    "from selenium import webdriver\n",
    "\n",
    "driver = webdriver.Chrome()\n",
    "driver.get(\"http://www.baidu.com\")\n",
    "\n",
    "# 获得所有cookie信息并打印\n",
    "cookie = driver.get_cookies()\n",
    "print(cookie)\n",
    "\n",
    "# 添加cookie信息\n",
    "driver.add_cookie({'name': 'key-aaaaaaa', 'value': 'value-bbbbbb'})\n",
    "\n",
    "# 遍历指定的cookies\n",
    "for cookie in driver.get_cookies():\n",
    "    print(\"%s -> %s\" % (cookie['name'], cookie['value']))\n",
    "\n",
    "driver.quit()"
   ]
  },
  {
   "cell_type": "markdown",
   "metadata": {},
   "source": [
    "## 调用 JavaScript"
   ]
  },
  {
   "cell_type": "markdown",
   "metadata": {},
   "source": [
    "有些页面操作不能依靠 WebDriver 提供的 API 来实现，如浏览器滚动条的拖动。这时\n",
    "就需要借助 JavaScript 脚本。WebDriver 提供了 execute_script()方法来执行 JavaScript 代码"
   ]
  },
  {
   "cell_type": "code",
   "execution_count": null,
   "metadata": {},
   "outputs": [],
   "source": [
    "\"\"\"\n",
    "* execute_script() 调用JavaScript实现滚动条操作。\n",
    "\"\"\"\n",
    "from selenium import webdriver\n",
    "from time import sleep\n",
    "\n",
    "driver = webdriver.Chrome()\n",
    "driver.get(\"http://www.baidu.com\")\n",
    "\n",
    "driver.set_window_size(800, 600)\n",
    "\n",
    "driver.find_element_by_id(\"kw\").send_keys(\"selenium\")\n",
    "driver.find_element_by_id(\"su\").click()\n",
    "sleep(2)\n",
    "\n",
    "# 通过javascript设置浏览器窗口的滚动条位置\n",
    "js = \"window.scrollTo(100,450);\"\n",
    "driver.execute_script(js)\n",
    "sleep(3)\n",
    "\n",
    "driver.quit()"
   ]
  },
  {
   "cell_type": "markdown",
   "metadata": {},
   "source": [
    "## 处理 HTML5 视频播放"
   ]
  },
  {
   "cell_type": "code",
   "execution_count": 58,
   "metadata": {},
   "outputs": [
    {
     "name": "stdout",
     "output_type": "stream",
     "text": [
      "blob:https://videojs.com/d4612a12-3af9-4376-80d7-d2ca35c63723\n",
      "start\n",
      "stop\n"
     ]
    }
   ],
   "source": [
    "\"\"\"\n",
    "测试HTML5页面\n",
    "\"\"\"\n",
    "from time import sleep\n",
    "from selenium import webdriver\n",
    "\n",
    "driver = webdriver.Chrome()\n",
    "driver.get(\"http://videojs.com/\")\n",
    "\n",
    "sleep(20)\n",
    "\n",
    "video = driver.find_element_by_id(\"vjs_video_3_html5_api\")\n",
    "\n",
    "\n",
    "# 返回播放文件地址\n",
    "url = driver.execute_script(\"return arguments[0].currentSrc;\", video)\n",
    "print(url)\n",
    "\n",
    "# 播放视频\n",
    "print(\"start\")\n",
    "driver.execute_script(\"arguments[0].play()\", video)\n",
    "\n",
    "# 播放15秒钟\n",
    "sleep(15)\n",
    "\n",
    "# 暂停视频\n",
    "print(\"stop\")\n",
    "driver.execute_script(\"arguments[0].pause()\", video)\n",
    "\n",
    "#driver.quit()"
   ]
  },
  {
   "cell_type": "markdown",
   "metadata": {},
   "source": [
    "## 解锁验证"
   ]
  },
  {
   "cell_type": "code",
   "execution_count": 72,
   "metadata": {},
   "outputs": [
    {
     "ename": "NoAlertPresentException",
     "evalue": "Message: no such alert\n  (Session info: chrome=90.0.4430.212)\n",
     "output_type": "error",
     "traceback": [
      "\u001b[0;31m---------------------------------------------------------------------------\u001b[0m",
      "\u001b[0;31mNoAlertPresentException\u001b[0m                   Traceback (most recent call last)",
      "\u001b[0;32m<ipython-input-72-42a8c7091f43>\u001b[0m in \u001b[0;36m<module>\u001b[0;34m\u001b[0m\n\u001b[1;32m     25\u001b[0m \u001b[0;34m\u001b[0m\u001b[0m\n\u001b[1;32m     26\u001b[0m \u001b[0;31m# 打印警告框提示\u001b[0m\u001b[0;34m\u001b[0m\u001b[0;34m\u001b[0m\u001b[0;34m\u001b[0m\u001b[0m\n\u001b[0;32m---> 27\u001b[0;31m \u001b[0msuccess_text\u001b[0m \u001b[0;34m=\u001b[0m \u001b[0mdriver\u001b[0m\u001b[0;34m.\u001b[0m\u001b[0mswitch_to\u001b[0m\u001b[0;34m.\u001b[0m\u001b[0malert\u001b[0m\u001b[0;34m.\u001b[0m\u001b[0mtext\u001b[0m\u001b[0;34m\u001b[0m\u001b[0;34m\u001b[0m\u001b[0m\n\u001b[0m\u001b[1;32m     28\u001b[0m \u001b[0mprint\u001b[0m\u001b[0;34m(\u001b[0m\u001b[0msuccess_text\u001b[0m\u001b[0;34m)\u001b[0m\u001b[0;34m\u001b[0m\u001b[0;34m\u001b[0m\u001b[0m\n",
      "\u001b[0;32m~/Library/Python/3.7/lib/python/site-packages/selenium/webdriver/remote/switch_to.py\u001b[0m in \u001b[0;36malert\u001b[0;34m(self)\u001b[0m\n\u001b[1;32m     53\u001b[0m         \"\"\"\n\u001b[1;32m     54\u001b[0m         \u001b[0malert\u001b[0m \u001b[0;34m=\u001b[0m \u001b[0mAlert\u001b[0m\u001b[0;34m(\u001b[0m\u001b[0mself\u001b[0m\u001b[0;34m.\u001b[0m\u001b[0m_driver\u001b[0m\u001b[0;34m)\u001b[0m\u001b[0;34m\u001b[0m\u001b[0;34m\u001b[0m\u001b[0m\n\u001b[0;32m---> 55\u001b[0;31m         \u001b[0malert\u001b[0m\u001b[0;34m.\u001b[0m\u001b[0mtext\u001b[0m\u001b[0;34m\u001b[0m\u001b[0;34m\u001b[0m\u001b[0m\n\u001b[0m\u001b[1;32m     56\u001b[0m         \u001b[0;32mreturn\u001b[0m \u001b[0malert\u001b[0m\u001b[0;34m\u001b[0m\u001b[0;34m\u001b[0m\u001b[0m\n\u001b[1;32m     57\u001b[0m \u001b[0;34m\u001b[0m\u001b[0m\n",
      "\u001b[0;32m~/Library/Python/3.7/lib/python/site-packages/selenium/webdriver/common/alert.py\u001b[0m in \u001b[0;36mtext\u001b[0;34m(self)\u001b[0m\n\u001b[1;32m     65\u001b[0m         \"\"\"\n\u001b[1;32m     66\u001b[0m         \u001b[0;32mif\u001b[0m \u001b[0mself\u001b[0m\u001b[0;34m.\u001b[0m\u001b[0mdriver\u001b[0m\u001b[0;34m.\u001b[0m\u001b[0mw3c\u001b[0m\u001b[0;34m:\u001b[0m\u001b[0;34m\u001b[0m\u001b[0;34m\u001b[0m\u001b[0m\n\u001b[0;32m---> 67\u001b[0;31m             \u001b[0;32mreturn\u001b[0m \u001b[0mself\u001b[0m\u001b[0;34m.\u001b[0m\u001b[0mdriver\u001b[0m\u001b[0;34m.\u001b[0m\u001b[0mexecute\u001b[0m\u001b[0;34m(\u001b[0m\u001b[0mCommand\u001b[0m\u001b[0;34m.\u001b[0m\u001b[0mW3C_GET_ALERT_TEXT\u001b[0m\u001b[0;34m)\u001b[0m\u001b[0;34m[\u001b[0m\u001b[0;34m\"value\"\u001b[0m\u001b[0;34m]\u001b[0m\u001b[0;34m\u001b[0m\u001b[0;34m\u001b[0m\u001b[0m\n\u001b[0m\u001b[1;32m     68\u001b[0m         \u001b[0;32melse\u001b[0m\u001b[0;34m:\u001b[0m\u001b[0;34m\u001b[0m\u001b[0;34m\u001b[0m\u001b[0m\n\u001b[1;32m     69\u001b[0m             \u001b[0;32mreturn\u001b[0m \u001b[0mself\u001b[0m\u001b[0;34m.\u001b[0m\u001b[0mdriver\u001b[0m\u001b[0;34m.\u001b[0m\u001b[0mexecute\u001b[0m\u001b[0;34m(\u001b[0m\u001b[0mCommand\u001b[0m\u001b[0;34m.\u001b[0m\u001b[0mGET_ALERT_TEXT\u001b[0m\u001b[0;34m)\u001b[0m\u001b[0;34m[\u001b[0m\u001b[0;34m\"value\"\u001b[0m\u001b[0;34m]\u001b[0m\u001b[0;34m\u001b[0m\u001b[0;34m\u001b[0m\u001b[0m\n",
      "\u001b[0;32m~/Library/Python/3.7/lib/python/site-packages/selenium/webdriver/remote/webdriver.py\u001b[0m in \u001b[0;36mexecute\u001b[0;34m(self, driver_command, params)\u001b[0m\n\u001b[1;32m    319\u001b[0m         \u001b[0mresponse\u001b[0m \u001b[0;34m=\u001b[0m \u001b[0mself\u001b[0m\u001b[0;34m.\u001b[0m\u001b[0mcommand_executor\u001b[0m\u001b[0;34m.\u001b[0m\u001b[0mexecute\u001b[0m\u001b[0;34m(\u001b[0m\u001b[0mdriver_command\u001b[0m\u001b[0;34m,\u001b[0m \u001b[0mparams\u001b[0m\u001b[0;34m)\u001b[0m\u001b[0;34m\u001b[0m\u001b[0;34m\u001b[0m\u001b[0m\n\u001b[1;32m    320\u001b[0m         \u001b[0;32mif\u001b[0m \u001b[0mresponse\u001b[0m\u001b[0;34m:\u001b[0m\u001b[0;34m\u001b[0m\u001b[0;34m\u001b[0m\u001b[0m\n\u001b[0;32m--> 321\u001b[0;31m             \u001b[0mself\u001b[0m\u001b[0;34m.\u001b[0m\u001b[0merror_handler\u001b[0m\u001b[0;34m.\u001b[0m\u001b[0mcheck_response\u001b[0m\u001b[0;34m(\u001b[0m\u001b[0mresponse\u001b[0m\u001b[0;34m)\u001b[0m\u001b[0;34m\u001b[0m\u001b[0;34m\u001b[0m\u001b[0m\n\u001b[0m\u001b[1;32m    322\u001b[0m             response['value'] = self._unwrap_value(\n\u001b[1;32m    323\u001b[0m                 response.get('value', None))\n",
      "\u001b[0;32m~/Library/Python/3.7/lib/python/site-packages/selenium/webdriver/remote/errorhandler.py\u001b[0m in \u001b[0;36mcheck_response\u001b[0;34m(self, response)\u001b[0m\n\u001b[1;32m    240\u001b[0m                 \u001b[0malert_text\u001b[0m \u001b[0;34m=\u001b[0m \u001b[0mvalue\u001b[0m\u001b[0;34m[\u001b[0m\u001b[0;34m'alert'\u001b[0m\u001b[0;34m]\u001b[0m\u001b[0;34m.\u001b[0m\u001b[0mget\u001b[0m\u001b[0;34m(\u001b[0m\u001b[0;34m'text'\u001b[0m\u001b[0;34m)\u001b[0m\u001b[0;34m\u001b[0m\u001b[0;34m\u001b[0m\u001b[0m\n\u001b[1;32m    241\u001b[0m             \u001b[0;32mraise\u001b[0m \u001b[0mexception_class\u001b[0m\u001b[0;34m(\u001b[0m\u001b[0mmessage\u001b[0m\u001b[0;34m,\u001b[0m \u001b[0mscreen\u001b[0m\u001b[0;34m,\u001b[0m \u001b[0mstacktrace\u001b[0m\u001b[0;34m,\u001b[0m \u001b[0malert_text\u001b[0m\u001b[0;34m)\u001b[0m\u001b[0;34m\u001b[0m\u001b[0;34m\u001b[0m\u001b[0m\n\u001b[0;32m--> 242\u001b[0;31m         \u001b[0;32mraise\u001b[0m \u001b[0mexception_class\u001b[0m\u001b[0;34m(\u001b[0m\u001b[0mmessage\u001b[0m\u001b[0;34m,\u001b[0m \u001b[0mscreen\u001b[0m\u001b[0;34m,\u001b[0m \u001b[0mstacktrace\u001b[0m\u001b[0;34m)\u001b[0m\u001b[0;34m\u001b[0m\u001b[0;34m\u001b[0m\u001b[0m\n\u001b[0m\u001b[1;32m    243\u001b[0m \u001b[0;34m\u001b[0m\u001b[0m\n\u001b[1;32m    244\u001b[0m     \u001b[0;32mdef\u001b[0m \u001b[0m_value_or_default\u001b[0m\u001b[0;34m(\u001b[0m\u001b[0mself\u001b[0m\u001b[0;34m,\u001b[0m \u001b[0mobj\u001b[0m\u001b[0;34m,\u001b[0m \u001b[0mkey\u001b[0m\u001b[0;34m,\u001b[0m \u001b[0mdefault\u001b[0m\u001b[0;34m)\u001b[0m\u001b[0;34m:\u001b[0m\u001b[0;34m\u001b[0m\u001b[0;34m\u001b[0m\u001b[0m\n",
      "\u001b[0;31mNoAlertPresentException\u001b[0m: Message: no such alert\n  (Session info: chrome=90.0.4430.212)\n"
     ]
    }
   ],
   "source": [
    "\"\"\"\n",
    "滑动解锁\n",
    "\"\"\"\n",
    "from time import sleep\n",
    "from selenium import webdriver\n",
    "from selenium.webdriver import ActionChains\n",
    "from selenium.common.exceptions import UnexpectedAlertPresentException\n",
    "\n",
    "driver = webdriver.Chrome()\n",
    "driver.get(\"https://www.helloweba.net/demo/2017/unlock/\")\n",
    "\n",
    "# 定位滑动块\n",
    "slider = driver.find_elements_by_class_name(\"slide-to-unlock-handle\")[0]\n",
    "action = ActionChains(driver)\n",
    "action.click_and_hold(slider).perform()\n",
    "\n",
    "for index in range(200):\n",
    "    try:\n",
    "        action.move_by_offset(20*index, 0).perform()\n",
    "        action.reset_actions()\n",
    "    except UnexpectedAlertPresentException:\n",
    "        break\n",
    "    sleep(0.1)  # 等待停顿时间\n",
    "\n",
    "\n",
    "# 打印警告框提示\n",
    "success_text = driver.switch_to.alert.text\n",
    "print(success_text)"
   ]
  },
  {
   "cell_type": "code",
   "execution_count": null,
   "metadata": {},
   "outputs": [],
   "source": [
    "https://www.aneasystone.com/archives/2018/03/python-selenium-geetest-crack.html"
   ]
  },
  {
   "cell_type": "markdown",
   "metadata": {},
   "source": [
    "## 截图"
   ]
  },
  {
   "cell_type": "code",
   "execution_count": null,
   "metadata": {},
   "outputs": [],
   "source": [
    "\"\"\"\n",
    "* save_screenshot() 截取窗口图片。\n",
    "\"\"\"\n",
    "from selenium import webdriver\n",
    "\n",
    "driver = webdriver.Chrome()\n",
    "driver.get('http://www.baidu.com')\n",
    "\n",
    "# 对当前窗口截图，并指定图片的保存位置\n",
    "driver.save_screenshot(\"./files/baidu_img.png\")"
   ]
  }
 ],
 "metadata": {
  "kernelspec": {
   "display_name": "Python 3",
   "language": "python",
   "name": "python3"
  },
  "language_info": {
   "codemirror_mode": {
    "name": "ipython",
    "version": 3
   },
   "file_extension": ".py",
   "mimetype": "text/x-python",
   "name": "python",
   "nbconvert_exporter": "python",
   "pygments_lexer": "ipython3",
   "version": "3.7.3"
  },
  "toc": {
   "base_numbering": 1,
   "nav_menu": {},
   "number_sections": true,
   "sideBar": true,
   "skip_h1_title": false,
   "title_cell": "Table of Contents",
   "title_sidebar": "Contents",
   "toc_cell": false,
   "toc_position": {
    "height": "calc(100% - 180px)",
    "left": "10px",
    "top": "150px",
    "width": "186.1px"
   },
   "toc_section_display": true,
   "toc_window_display": true
  },
  "varInspector": {
   "cols": {
    "lenName": 16,
    "lenType": 16,
    "lenVar": 40
   },
   "kernels_config": {
    "python": {
     "delete_cmd_postfix": "",
     "delete_cmd_prefix": "del ",
     "library": "var_list.py",
     "varRefreshCmd": "print(var_dic_list())"
    },
    "r": {
     "delete_cmd_postfix": ") ",
     "delete_cmd_prefix": "rm(",
     "library": "var_list.r",
     "varRefreshCmd": "cat(var_dic_list()) "
    }
   },
   "types_to_exclude": [
    "module",
    "function",
    "builtin_function_or_method",
    "instance",
    "_Feature"
   ],
   "window_display": false
  }
 },
 "nbformat": 4,
 "nbformat_minor": 4
}
